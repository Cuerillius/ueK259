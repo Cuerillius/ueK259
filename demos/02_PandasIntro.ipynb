{
  "cells": [
    {
      "cell_type": "markdown",
      "id": "1a3b2c17-071d-4c70-a527-d05080e79a45",
      "metadata": {
        "id": "1a3b2c17-071d-4c70-a527-d05080e79a45"
      },
      "source": [
        "## Pandas\n",
        "\n",
        "<a target=\"_blank\" href=\"https://colab.research.google.com/github/LuWidme/uk259/blob/main/demos/Pandas%20Intro.ipynb\">\n",
        "  <img src=\"https://colab.research.google.com/assets/colab-badge.svg\" alt=\"Open In Colab\"/>\n",
        "</a>\n",
        "\n",
        "\n",
        "Pandas is a Data Manipulaiton Library hat makes it easy to handle complex datasets.\n",
        "\n",
        "Creating a DataFrame by passing a NumPy array, with labeled columns:"
      ]
    },
    {
      "cell_type": "code",
      "id": "81d9d468-5de6-4a6c-b9b6-dab17707fcd7",
      "metadata": {
        "ExecuteTime": {
          "end_time": "2024-06-18T12:36:36.579344Z",
          "start_time": "2024-06-18T12:36:36.553162Z"
        },
        "id": "81d9d468-5de6-4a6c-b9b6-dab17707fcd7"
      },
      "source": [
        "import pandas as pd\n",
        "import numpy as np\n",
        "#df=pd.read_csv(\"../datasets/melb_data.csv\")\n",
        "#df[df.isnull().any(axis=1)].iloc[-5:,14:17]\n",
        "\n",
        "df = pd.DataFrame(np.random.randn(6, 4),  columns=list(\"ABCD\"))"
      ],
      "outputs": [],
      "execution_count": 22
    },
    {
      "cell_type": "markdown",
      "id": "92906ada-0a22-484c-abcd-a71c112d4b83",
      "metadata": {
        "id": "92906ada-0a22-484c-abcd-a71c112d4b83"
      },
      "source": [
        "\n",
        "\n",
        "```\n",
        "# This is formatted as code\n",
        "```\n",
        "\n",
        "The columns of the resulting DataFrame have different dtypes.\n",
        "\n",
        "If you’re using IPython, tab completion for column names (as well as public attributes) is automatically enabled. Here’s a subset of the attributes that will be completed:\n",
        "\n"
      ]
    },
    {
      "cell_type": "code",
      "id": "93b58f04-bc1d-4a82-9a8c-9b51ec094797",
      "metadata": {
        "ExecuteTime": {
          "end_time": "2024-06-18T12:36:36.610115Z",
          "start_time": "2024-06-18T12:36:36.581353Z"
        },
        "colab": {
          "base_uri": "https://localhost:8080/",
          "height": 210
        },
        "id": "93b58f04-bc1d-4a82-9a8c-9b51ec094797",
        "outputId": "63158d86-7cb2-4c7e-c500-c5af48b94cfd"
      },
      "source": [
        "df.dtypes"
      ],
      "outputs": [
        {
          "output_type": "execute_result",
          "data": {
            "text/plain": [
              "A    float64\n",
              "B    float64\n",
              "C    float64\n",
              "D    float64\n",
              "dtype: object"
            ],
            "text/html": [
              "<div>\n",
              "<style scoped>\n",
              "    .dataframe tbody tr th:only-of-type {\n",
              "        vertical-align: middle;\n",
              "    }\n",
              "\n",
              "    .dataframe tbody tr th {\n",
              "        vertical-align: top;\n",
              "    }\n",
              "\n",
              "    .dataframe thead th {\n",
              "        text-align: right;\n",
              "    }\n",
              "</style>\n",
              "<table border=\"1\" class=\"dataframe\">\n",
              "  <thead>\n",
              "    <tr style=\"text-align: right;\">\n",
              "      <th></th>\n",
              "      <th>0</th>\n",
              "    </tr>\n",
              "  </thead>\n",
              "  <tbody>\n",
              "    <tr>\n",
              "      <th>A</th>\n",
              "      <td>float64</td>\n",
              "    </tr>\n",
              "    <tr>\n",
              "      <th>B</th>\n",
              "      <td>float64</td>\n",
              "    </tr>\n",
              "    <tr>\n",
              "      <th>C</th>\n",
              "      <td>float64</td>\n",
              "    </tr>\n",
              "    <tr>\n",
              "      <th>D</th>\n",
              "      <td>float64</td>\n",
              "    </tr>\n",
              "  </tbody>\n",
              "</table>\n",
              "</div><br><label><b>dtype:</b> object</label>"
            ]
          },
          "metadata": {},
          "execution_count": 18
        }
      ],
      "execution_count": 18
    },
    {
      "cell_type": "markdown",
      "id": "a43d65c6-0536-4480-843e-cba5a10a921a",
      "metadata": {
        "id": "a43d65c6-0536-4480-843e-cba5a10a921a"
      },
      "source": [
        "## Viewing data\n",
        "df.head()\n",
        "df.tail(3)\n",
        "df.describe()\n",
        "df.sort_values(by=\"B\")\n",
        "df.sort_index(axis=1, ascending=False)"
      ]
    },
    {
      "cell_type": "markdown",
      "id": "e84753f7-f1fe-4cc6-9cfa-4d5d8c1ceba6",
      "metadata": {
        "id": "e84753f7-f1fe-4cc6-9cfa-4d5d8c1ceba6"
      },
      "source": [
        "## Selecting Data"
      ]
    },
    {
      "cell_type": "code",
      "id": "baa80724-b3fa-46eb-ace9-5cd261301241",
      "metadata": {
        "ExecuteTime": {
          "end_time": "2024-06-18T12:36:36.641623Z",
          "start_time": "2024-06-18T12:36:36.614138Z"
        },
        "colab": {
          "base_uri": "https://localhost:8080/"
        },
        "id": "baa80724-b3fa-46eb-ace9-5cd261301241",
        "outputId": "4a67b6cb-b561-4db1-8625-716c2699ee52"
      },
      "source": [
        "print(df[\"A\"])\n",
        "\n",
        "print(df.iloc[3:5, 0:2] )#selection by index"
      ],
      "outputs": [
        {
          "output_type": "stream",
          "name": "stdout",
          "text": [
            "0    0.376097\n",
            "1   -1.208337\n",
            "2   -0.809475\n",
            "3    0.364219\n",
            "4    0.754361\n",
            "5   -3.068004\n",
            "Name: A, dtype: float64\n",
            "          A         B\n",
            "3  0.364219  1.239739\n",
            "4  0.754361 -1.015703\n"
          ]
        }
      ],
      "execution_count": 19
    },
    {
      "cell_type": "markdown",
      "id": "98c8b487-b9f0-4b62-bf5e-013f4f4b6780",
      "metadata": {
        "id": "98c8b487-b9f0-4b62-bf5e-013f4f4b6780"
      },
      "source": [
        "## Boolean indexing"
      ]
    },
    {
      "cell_type": "code",
      "id": "22a22b8b-1aec-4167-b56f-5851ecbfbebc",
      "metadata": {
        "ExecuteTime": {
          "end_time": "2024-06-18T12:36:36.671804Z",
          "start_time": "2024-06-18T12:36:36.644542Z"
        },
        "colab": {
          "base_uri": "https://localhost:8080/"
        },
        "id": "22a22b8b-1aec-4167-b56f-5851ecbfbebc",
        "outputId": "288feb3b-7b82-4759-824d-8f5a7afeaec6"
      },
      "source": [
        "print(df[df > 0])\n"
      ],
      "outputs": [
        {
          "output_type": "stream",
          "name": "stdout",
          "text": [
            "          A         B         C         D\n",
            "0       NaN  1.717240       NaN       NaN\n",
            "1  1.247374       NaN  0.687666  1.594385\n",
            "2  0.418316  1.607198       NaN  0.541978\n",
            "3       NaN  2.479612  0.586086       NaN\n",
            "4       NaN       NaN  1.130484  0.925472\n",
            "5  0.057483       NaN       NaN  0.989219\n"
          ]
        }
      ],
      "execution_count": 23
    },
    {
      "cell_type": "code",
      "id": "9945e87c",
      "metadata": {
        "ExecuteTime": {
          "end_time": "2024-06-18T12:36:36.703272Z",
          "start_time": "2024-06-18T12:36:36.673800Z"
        },
        "colab": {
          "base_uri": "https://localhost:8080/",
          "height": 292
        },
        "id": "9945e87c",
        "outputId": "4f017428-2b6f-4b57-8b5a-f5969a748f4a"
      },
      "source": [
        "df.iloc[1,1] = \"Hello\"\n",
        "\n",
        "df[df.isin([\"Hello\", \"World\"])]"
      ],
      "outputs": [
        {
          "output_type": "stream",
          "name": "stderr",
          "text": [
            "<ipython-input-24-808061c0b145>:1: FutureWarning: Setting an item of incompatible dtype is deprecated and will raise an error in a future version of pandas. Value 'Hello' has dtype incompatible with float64, please explicitly cast to a compatible dtype first.\n",
            "  df.iloc[1,1] = \"Hello\"\n"
          ]
        },
        {
          "output_type": "execute_result",
          "data": {
            "text/plain": [
              "    A      B   C   D\n",
              "0 NaN    NaN NaN NaN\n",
              "1 NaN  Hello NaN NaN\n",
              "2 NaN    NaN NaN NaN\n",
              "3 NaN    NaN NaN NaN\n",
              "4 NaN    NaN NaN NaN\n",
              "5 NaN    NaN NaN NaN"
            ],
            "text/html": [
              "\n",
              "  <div id=\"df-3eacf1bf-b386-4140-896c-16d9de71a82f\" class=\"colab-df-container\">\n",
              "    <div>\n",
              "<style scoped>\n",
              "    .dataframe tbody tr th:only-of-type {\n",
              "        vertical-align: middle;\n",
              "    }\n",
              "\n",
              "    .dataframe tbody tr th {\n",
              "        vertical-align: top;\n",
              "    }\n",
              "\n",
              "    .dataframe thead th {\n",
              "        text-align: right;\n",
              "    }\n",
              "</style>\n",
              "<table border=\"1\" class=\"dataframe\">\n",
              "  <thead>\n",
              "    <tr style=\"text-align: right;\">\n",
              "      <th></th>\n",
              "      <th>A</th>\n",
              "      <th>B</th>\n",
              "      <th>C</th>\n",
              "      <th>D</th>\n",
              "    </tr>\n",
              "  </thead>\n",
              "  <tbody>\n",
              "    <tr>\n",
              "      <th>0</th>\n",
              "      <td>NaN</td>\n",
              "      <td>NaN</td>\n",
              "      <td>NaN</td>\n",
              "      <td>NaN</td>\n",
              "    </tr>\n",
              "    <tr>\n",
              "      <th>1</th>\n",
              "      <td>NaN</td>\n",
              "      <td>Hello</td>\n",
              "      <td>NaN</td>\n",
              "      <td>NaN</td>\n",
              "    </tr>\n",
              "    <tr>\n",
              "      <th>2</th>\n",
              "      <td>NaN</td>\n",
              "      <td>NaN</td>\n",
              "      <td>NaN</td>\n",
              "      <td>NaN</td>\n",
              "    </tr>\n",
              "    <tr>\n",
              "      <th>3</th>\n",
              "      <td>NaN</td>\n",
              "      <td>NaN</td>\n",
              "      <td>NaN</td>\n",
              "      <td>NaN</td>\n",
              "    </tr>\n",
              "    <tr>\n",
              "      <th>4</th>\n",
              "      <td>NaN</td>\n",
              "      <td>NaN</td>\n",
              "      <td>NaN</td>\n",
              "      <td>NaN</td>\n",
              "    </tr>\n",
              "    <tr>\n",
              "      <th>5</th>\n",
              "      <td>NaN</td>\n",
              "      <td>NaN</td>\n",
              "      <td>NaN</td>\n",
              "      <td>NaN</td>\n",
              "    </tr>\n",
              "  </tbody>\n",
              "</table>\n",
              "</div>\n",
              "    <div class=\"colab-df-buttons\">\n",
              "\n",
              "  <div class=\"colab-df-container\">\n",
              "    <button class=\"colab-df-convert\" onclick=\"convertToInteractive('df-3eacf1bf-b386-4140-896c-16d9de71a82f')\"\n",
              "            title=\"Convert this dataframe to an interactive table.\"\n",
              "            style=\"display:none;\">\n",
              "\n",
              "  <svg xmlns=\"http://www.w3.org/2000/svg\" height=\"24px\" viewBox=\"0 -960 960 960\">\n",
              "    <path d=\"M120-120v-720h720v720H120Zm60-500h600v-160H180v160Zm220 220h160v-160H400v160Zm0 220h160v-160H400v160ZM180-400h160v-160H180v160Zm440 0h160v-160H620v160ZM180-180h160v-160H180v160Zm440 0h160v-160H620v160Z\"/>\n",
              "  </svg>\n",
              "    </button>\n",
              "\n",
              "  <style>\n",
              "    .colab-df-container {\n",
              "      display:flex;\n",
              "      gap: 12px;\n",
              "    }\n",
              "\n",
              "    .colab-df-convert {\n",
              "      background-color: #E8F0FE;\n",
              "      border: none;\n",
              "      border-radius: 50%;\n",
              "      cursor: pointer;\n",
              "      display: none;\n",
              "      fill: #1967D2;\n",
              "      height: 32px;\n",
              "      padding: 0 0 0 0;\n",
              "      width: 32px;\n",
              "    }\n",
              "\n",
              "    .colab-df-convert:hover {\n",
              "      background-color: #E2EBFA;\n",
              "      box-shadow: 0px 1px 2px rgba(60, 64, 67, 0.3), 0px 1px 3px 1px rgba(60, 64, 67, 0.15);\n",
              "      fill: #174EA6;\n",
              "    }\n",
              "\n",
              "    .colab-df-buttons div {\n",
              "      margin-bottom: 4px;\n",
              "    }\n",
              "\n",
              "    [theme=dark] .colab-df-convert {\n",
              "      background-color: #3B4455;\n",
              "      fill: #D2E3FC;\n",
              "    }\n",
              "\n",
              "    [theme=dark] .colab-df-convert:hover {\n",
              "      background-color: #434B5C;\n",
              "      box-shadow: 0px 1px 3px 1px rgba(0, 0, 0, 0.15);\n",
              "      filter: drop-shadow(0px 1px 2px rgba(0, 0, 0, 0.3));\n",
              "      fill: #FFFFFF;\n",
              "    }\n",
              "  </style>\n",
              "\n",
              "    <script>\n",
              "      const buttonEl =\n",
              "        document.querySelector('#df-3eacf1bf-b386-4140-896c-16d9de71a82f button.colab-df-convert');\n",
              "      buttonEl.style.display =\n",
              "        google.colab.kernel.accessAllowed ? 'block' : 'none';\n",
              "\n",
              "      async function convertToInteractive(key) {\n",
              "        const element = document.querySelector('#df-3eacf1bf-b386-4140-896c-16d9de71a82f');\n",
              "        const dataTable =\n",
              "          await google.colab.kernel.invokeFunction('convertToInteractive',\n",
              "                                                    [key], {});\n",
              "        if (!dataTable) return;\n",
              "\n",
              "        const docLinkHtml = 'Like what you see? Visit the ' +\n",
              "          '<a target=\"_blank\" href=https://colab.research.google.com/notebooks/data_table.ipynb>data table notebook</a>'\n",
              "          + ' to learn more about interactive tables.';\n",
              "        element.innerHTML = '';\n",
              "        dataTable['output_type'] = 'display_data';\n",
              "        await google.colab.output.renderOutput(dataTable, element);\n",
              "        const docLink = document.createElement('div');\n",
              "        docLink.innerHTML = docLinkHtml;\n",
              "        element.appendChild(docLink);\n",
              "      }\n",
              "    </script>\n",
              "  </div>\n",
              "\n",
              "\n",
              "    <div id=\"df-49e97eb3-c31c-4d46-adce-99f8cf35f02c\">\n",
              "      <button class=\"colab-df-quickchart\" onclick=\"quickchart('df-49e97eb3-c31c-4d46-adce-99f8cf35f02c')\"\n",
              "                title=\"Suggest charts\"\n",
              "                style=\"display:none;\">\n",
              "\n",
              "<svg xmlns=\"http://www.w3.org/2000/svg\" height=\"24px\"viewBox=\"0 0 24 24\"\n",
              "     width=\"24px\">\n",
              "    <g>\n",
              "        <path d=\"M19 3H5c-1.1 0-2 .9-2 2v14c0 1.1.9 2 2 2h14c1.1 0 2-.9 2-2V5c0-1.1-.9-2-2-2zM9 17H7v-7h2v7zm4 0h-2V7h2v10zm4 0h-2v-4h2v4z\"/>\n",
              "    </g>\n",
              "</svg>\n",
              "      </button>\n",
              "\n",
              "<style>\n",
              "  .colab-df-quickchart {\n",
              "      --bg-color: #E8F0FE;\n",
              "      --fill-color: #1967D2;\n",
              "      --hover-bg-color: #E2EBFA;\n",
              "      --hover-fill-color: #174EA6;\n",
              "      --disabled-fill-color: #AAA;\n",
              "      --disabled-bg-color: #DDD;\n",
              "  }\n",
              "\n",
              "  [theme=dark] .colab-df-quickchart {\n",
              "      --bg-color: #3B4455;\n",
              "      --fill-color: #D2E3FC;\n",
              "      --hover-bg-color: #434B5C;\n",
              "      --hover-fill-color: #FFFFFF;\n",
              "      --disabled-bg-color: #3B4455;\n",
              "      --disabled-fill-color: #666;\n",
              "  }\n",
              "\n",
              "  .colab-df-quickchart {\n",
              "    background-color: var(--bg-color);\n",
              "    border: none;\n",
              "    border-radius: 50%;\n",
              "    cursor: pointer;\n",
              "    display: none;\n",
              "    fill: var(--fill-color);\n",
              "    height: 32px;\n",
              "    padding: 0;\n",
              "    width: 32px;\n",
              "  }\n",
              "\n",
              "  .colab-df-quickchart:hover {\n",
              "    background-color: var(--hover-bg-color);\n",
              "    box-shadow: 0 1px 2px rgba(60, 64, 67, 0.3), 0 1px 3px 1px rgba(60, 64, 67, 0.15);\n",
              "    fill: var(--button-hover-fill-color);\n",
              "  }\n",
              "\n",
              "  .colab-df-quickchart-complete:disabled,\n",
              "  .colab-df-quickchart-complete:disabled:hover {\n",
              "    background-color: var(--disabled-bg-color);\n",
              "    fill: var(--disabled-fill-color);\n",
              "    box-shadow: none;\n",
              "  }\n",
              "\n",
              "  .colab-df-spinner {\n",
              "    border: 2px solid var(--fill-color);\n",
              "    border-color: transparent;\n",
              "    border-bottom-color: var(--fill-color);\n",
              "    animation:\n",
              "      spin 1s steps(1) infinite;\n",
              "  }\n",
              "\n",
              "  @keyframes spin {\n",
              "    0% {\n",
              "      border-color: transparent;\n",
              "      border-bottom-color: var(--fill-color);\n",
              "      border-left-color: var(--fill-color);\n",
              "    }\n",
              "    20% {\n",
              "      border-color: transparent;\n",
              "      border-left-color: var(--fill-color);\n",
              "      border-top-color: var(--fill-color);\n",
              "    }\n",
              "    30% {\n",
              "      border-color: transparent;\n",
              "      border-left-color: var(--fill-color);\n",
              "      border-top-color: var(--fill-color);\n",
              "      border-right-color: var(--fill-color);\n",
              "    }\n",
              "    40% {\n",
              "      border-color: transparent;\n",
              "      border-right-color: var(--fill-color);\n",
              "      border-top-color: var(--fill-color);\n",
              "    }\n",
              "    60% {\n",
              "      border-color: transparent;\n",
              "      border-right-color: var(--fill-color);\n",
              "    }\n",
              "    80% {\n",
              "      border-color: transparent;\n",
              "      border-right-color: var(--fill-color);\n",
              "      border-bottom-color: var(--fill-color);\n",
              "    }\n",
              "    90% {\n",
              "      border-color: transparent;\n",
              "      border-bottom-color: var(--fill-color);\n",
              "    }\n",
              "  }\n",
              "</style>\n",
              "\n",
              "      <script>\n",
              "        async function quickchart(key) {\n",
              "          const quickchartButtonEl =\n",
              "            document.querySelector('#' + key + ' button');\n",
              "          quickchartButtonEl.disabled = true;  // To prevent multiple clicks.\n",
              "          quickchartButtonEl.classList.add('colab-df-spinner');\n",
              "          try {\n",
              "            const charts = await google.colab.kernel.invokeFunction(\n",
              "                'suggestCharts', [key], {});\n",
              "          } catch (error) {\n",
              "            console.error('Error during call to suggestCharts:', error);\n",
              "          }\n",
              "          quickchartButtonEl.classList.remove('colab-df-spinner');\n",
              "          quickchartButtonEl.classList.add('colab-df-quickchart-complete');\n",
              "        }\n",
              "        (() => {\n",
              "          let quickchartButtonEl =\n",
              "            document.querySelector('#df-49e97eb3-c31c-4d46-adce-99f8cf35f02c button');\n",
              "          quickchartButtonEl.style.display =\n",
              "            google.colab.kernel.accessAllowed ? 'block' : 'none';\n",
              "        })();\n",
              "      </script>\n",
              "    </div>\n",
              "\n",
              "    </div>\n",
              "  </div>\n"
            ],
            "application/vnd.google.colaboratory.intrinsic+json": {
              "type": "dataframe",
              "summary": "{\n  \"name\": \"df[df\",\n  \"rows\": 6,\n  \"fields\": [\n    {\n      \"column\": \"A\",\n      \"properties\": {\n        \"dtype\": \"number\",\n        \"std\": null,\n        \"min\": null,\n        \"max\": null,\n        \"num_unique_values\": 0,\n        \"samples\": [],\n        \"semantic_type\": \"\",\n        \"description\": \"\"\n      }\n    },\n    {\n      \"column\": \"B\",\n      \"properties\": {\n        \"dtype\": \"category\",\n        \"num_unique_values\": 1,\n        \"samples\": [],\n        \"semantic_type\": \"\",\n        \"description\": \"\"\n      }\n    },\n    {\n      \"column\": \"C\",\n      \"properties\": {\n        \"dtype\": \"number\",\n        \"std\": null,\n        \"min\": null,\n        \"max\": null,\n        \"num_unique_values\": 0,\n        \"samples\": [],\n        \"semantic_type\": \"\",\n        \"description\": \"\"\n      }\n    },\n    {\n      \"column\": \"D\",\n      \"properties\": {\n        \"dtype\": \"number\",\n        \"std\": null,\n        \"min\": null,\n        \"max\": null,\n        \"num_unique_values\": 0,\n        \"samples\": [],\n        \"semantic_type\": \"\",\n        \"description\": \"\"\n      }\n    }\n  ]\n}"
            }
          },
          "metadata": {},
          "execution_count": 24
        }
      ],
      "execution_count": 24
    },
    {
      "cell_type": "markdown",
      "id": "14c3dc12-4c75-4447-901d-6daa40c034be",
      "metadata": {
        "id": "14c3dc12-4c75-4447-901d-6daa40c034be"
      },
      "source": [
        "## Task1: Missing data\n",
        "In the following Dataframe, some data is missing. Find a way to:\n",
        "* 1: Remove the column containing the missing data\n",
        "* 2:  Fill the missing column with the average of each row"
      ]
    },
    {
      "cell_type": "code",
      "id": "c08a8409-85f3-479b-817a-d425e69b1781",
      "metadata": {
        "ExecuteTime": {
          "end_time": "2024-06-18T12:36:36.734284Z",
          "start_time": "2024-06-18T12:36:36.706270Z"
        },
        "colab": {
          "base_uri": "https://localhost:8080/"
        },
        "id": "c08a8409-85f3-479b-817a-d425e69b1781",
        "outputId": "933a5f17-8777-4bc1-b089-c983511f6174"
      },
      "source": [
        "df1 = df.reindex( columns=list(df.columns) + [\"E\"])\n",
        "df1 = df1.iloc[1:8, 0:4]\n",
        "df1[\"E\"] = np.random.randn(5, 1)\n",
        "print(df1)"
      ],
      "outputs": [
        {
          "output_type": "stream",
          "name": "stdout",
          "text": [
            "          A         B         C         D         E\n",
            "1 -1.208337 -0.123492  0.940715  0.208805 -0.356866\n",
            "2 -0.809475 -1.381562 -1.106426  0.397412 -0.716387\n",
            "3  0.364219  1.239739  1.958449  0.729135  1.733049\n",
            "4  0.754361 -1.015703 -0.752847  0.243122 -0.117654\n",
            "5 -3.068004 -2.065781  0.954667  0.011446 -0.043704\n"
          ]
        }
      ],
      "execution_count": 15
    },
    {
      "cell_type": "code",
      "id": "92912693-6f07-487a-8883-63ae7c8c2974",
      "metadata": {
        "ExecuteTime": {
          "end_time": "2024-06-18T12:36:36.749598Z",
          "start_time": "2024-06-18T12:36:36.736256Z"
        },
        "id": "92912693-6f07-487a-8883-63ae7c8c2974"
      },
      "source": [],
      "outputs": [],
      "execution_count": null
    },
    {
      "cell_type": "markdown",
      "id": "f6ff8f4a-a048-4ad6-b5ae-9720e7100d8e",
      "metadata": {
        "id": "f6ff8f4a-a048-4ad6-b5ae-9720e7100d8e"
      },
      "source": [
        "# Task 2.1: Plotting\n",
        "\n",
        "The variable *ts* below contains a randomly generated \"time series\" a dataset in which time is one of the axies.\n",
        "\n",
        "* Calculate the **cumulative sum** of this series in a new series. The cumulative sum at index *i* is the sum of all entries in *ts* up until index *i*.\n",
        "* Plot the cumulative sum using *matplotlib*"
      ]
    },
    {
      "cell_type": "code",
      "id": "43a4e2a6-218b-4894-8524-cf34299bc5ed",
      "metadata": {
        "ExecuteTime": {
          "end_time": "2024-06-18T12:36:36.780799Z",
          "start_time": "2024-06-18T12:36:36.753173Z"
        },
        "colab": {
          "base_uri": "https://localhost:8080/",
          "height": 447
        },
        "id": "43a4e2a6-218b-4894-8524-cf34299bc5ed",
        "outputId": "b1401f48-1611-4f25-8a1c-339721c41dda"
      },
      "source": [
        "import matplotlib.pyplot as plt\n",
        "ts = pd.Series(np.random.randn(1000), index=pd.date_range(\"1/1/2000\", periods=1000))\n",
        "tscs = ts.cumsum()\n",
        "plt.plot(tscs)"
      ],
      "outputs": [
        {
          "output_type": "execute_result",
          "data": {
            "text/plain": [
              "[<matplotlib.lines.Line2D at 0x7e4a3a91b810>]"
            ]
          },
          "metadata": {},
          "execution_count": 40
        },
        {
          "output_type": "display_data",
          "data": {
            "text/plain": [
              "<Figure size 640x480 with 1 Axes>"
            ],
            "image/png": "[encoded data removed]"
          },
          "metadata": {}
        }
      ],
      "execution_count": 40
    },
    {
      "cell_type": "markdown",
      "id": "bddf06bc",
      "metadata": {
        "id": "bddf06bc"
      },
      "source": [
        "# Task 2.2:  \n",
        "\n",
        "Adapt the code above to plot 4 timeseries in the same plot, with A different colour and label for each timeseries.\\\n",
        "The output should look similar to this:\\\n",
        "![ ](..\\img\\output_2_2.png)"
      ]
    },
    {
      "cell_type": "code",
      "id": "33a32a06-e2da-4b15-ab00-c1a0361667df",
      "metadata": {
        "ExecuteTime": {
          "end_time": "2024-06-18T12:36:36.796037Z",
          "start_time": "2024-06-18T12:36:36.784337Z"
        },
        "colab": {
          "base_uri": "https://localhost:8080/",
          "height": 499
        },
        "id": "33a32a06-e2da-4b15-ab00-c1a0361667df",
        "outputId": "33217442-2833-49fd-bdf4-e112e11ec43d"
      },
      "source": [
        "df = pd.DataFrame(\n",
        "    np.random.randn(1000, 4), index=ts.index, columns=[\"A\", \"B\", \"C\", \"D\"]\n",
        ")\n",
        "\n",
        "dfcs = df.cumsum()\n",
        "plt.plot(dfcs)\n",
        "\n"
      ],
      "outputs": [
        {
          "output_type": "execute_result",
          "data": {
            "text/plain": [
              "[<matplotlib.lines.Line2D at 0x7e4a3a8c23d0>,\n",
              " <matplotlib.lines.Line2D at 0x7e4a3a7c0910>,\n",
              " <matplotlib.lines.Line2D at 0x7e4a3aa40e50>,\n",
              " <matplotlib.lines.Line2D at 0x7e4a3a781210>]"
            ]
          },
          "metadata": {},
          "execution_count": 41
        },
        {
          "output_type": "display_data",
          "data": {
            "text/plain": [
              "<Figure size 640x480 with 1 Axes>"
            ],
            "image/png": "[encoded data removed]"
          },
          "metadata": {}
        }
      ],
      "execution_count": 41
    }
  ],
  "metadata": {
    "interpreter": {
      "hash": "17dbd8faaacc25d53b4711e28179d2ae6dbd5797a932c2f06c73186f9f8a4c28"
    },
    "kernelspec": {
      "display_name": "Python 3",
      "language": "python",
      "name": "python3"
    },
    "language_info": {
      "codemirror_mode": {
        "name": "ipython",
        "version": 3
      },
      "file_extension": ".py",
      "mimetype": "text/x-python",
      "name": "python",
      "nbconvert_exporter": "python",
      "pygments_lexer": "ipython3",
      "version": "3.9.9"
    },
    "colab": {
      "provenance": []
    }
  },
  "nbformat": 4,
  "nbformat_minor": 5
}